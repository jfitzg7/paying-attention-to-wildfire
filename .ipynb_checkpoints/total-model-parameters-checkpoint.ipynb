{
 "cells": [
  {
   "cell_type": "code",
   "execution_count": 2,
   "id": "fc3df047-d9e1-401c-8a80-e5a38ce7b613",
   "metadata": {},
   "outputs": [],
   "source": [
    "from leejunhyun_unet_models import U_Net, R2U_Net, AttU_Net, R2AttU_Net, AttU_Net_S"
   ]
  },
  {
   "cell_type": "code",
   "execution_count": 13,
   "id": "aca035ac-77c4-4c9f-97da-aaf52a193d43",
   "metadata": {},
   "outputs": [
    {
     "name": "stdout",
     "output_type": "stream",
     "text": [
      "U_Net total params = 34532225\n",
      "R2U_Net total params = 39091969\n",
      "AttU_Net total params = 34883757\n",
      "R2AttU_Net total params = 39443501\n",
      "AttU_Net total params = 8656810\n"
     ]
    }
   ],
   "source": [
    "unet_model = U_Net(12, 1)\n",
    "unet_total_params = sum(p.numel() for p in unet_model.parameters())\n",
    "print(f\"U_Net total params = {unet_total_params}\")\n",
    "\n",
    "r2unet_model = R2U_Net(12, 1)\n",
    "r2unet_total_params = sum(p.numel() for p in r2unet_model.parameters())\n",
    "print(f\"R2U_Net total params = {r2unet_total_params}\")\n",
    "\n",
    "attunet_model = AttU_Net(12, 1)\n",
    "attunet_total_params = sum(p.numel() for p in attunet_model.parameters())\n",
    "print(f\"AttU_Net total params = {attunet_total_params}\")\n",
    "\n",
    "r2attunet_model = R2AttU_Net(12, 1)\n",
    "r2attunet_total_params = sum(p.numel() for p in r2attunet_model.parameters())\n",
    "print(f\"R2AttU_Net total params = {r2attunet_total_params}\")\n",
    "\n",
    "wpn_model = AttU_Net_S(12, 1)\n",
    "wpn_total_params = sum(p.numel() for p in wpn_model.parameters())\n",
    "print(f\"AttU_Net total params = {wpn_total_params}\")"
   ]
  },
  {
   "cell_type": "code",
   "execution_count": null,
   "id": "93ae7546-4b26-4c39-afea-2afa45706b89",
   "metadata": {},
   "outputs": [],
   "source": []
  }
 ],
 "metadata": {
  "kernelspec": {
   "display_name": "Python 3 (ipykernel)",
   "language": "python",
   "name": "python3"
  },
  "language_info": {
   "codemirror_mode": {
    "name": "ipython",
    "version": 3
   },
   "file_extension": ".py",
   "mimetype": "text/x-python",
   "name": "python",
   "nbconvert_exporter": "python",
   "pygments_lexer": "ipython3",
   "version": "3.10.9"
  }
 },
 "nbformat": 4,
 "nbformat_minor": 5
}
